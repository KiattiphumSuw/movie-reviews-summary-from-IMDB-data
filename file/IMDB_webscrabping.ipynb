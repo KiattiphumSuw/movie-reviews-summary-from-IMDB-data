{
 "cells": [
  {
   "cell_type": "code",
   "execution_count": 2,
   "metadata": {},
   "outputs": [
    {
     "name": "stdout",
     "output_type": "stream",
     "text": [
      "Collecting selenium\n",
      "  Downloading selenium-4.16.0-py3-none-any.whl (10.0 MB)\n",
      "Requirement already satisfied: urllib3[socks]<3,>=1.26 in c:\\users\\kunnger\\anaconda3\\lib\\site-packages (from selenium) (1.26.4)\n",
      "Collecting trio-websocket~=0.9\n",
      "  Downloading trio_websocket-0.11.1-py3-none-any.whl (17 kB)\n",
      "Collecting certifi>=2021.10.8\n",
      "  Downloading certifi-2023.11.17-py3-none-any.whl (162 kB)\n",
      "Collecting trio~=0.17\n",
      "  Downloading trio-0.23.2-py3-none-any.whl (461 kB)\n",
      "Requirement already satisfied: cffi>=1.14 in c:\\users\\kunnger\\anaconda3\\lib\\site-packages (from trio~=0.17->selenium) (1.14.5)\n",
      "Collecting sniffio>=1.3.0\n",
      "  Downloading sniffio-1.3.0-py3-none-any.whl (10 kB)\n",
      "Collecting outcome\n",
      "  Downloading outcome-1.3.0.post0-py2.py3-none-any.whl (10 kB)\n",
      "Requirement already satisfied: idna in c:\\users\\kunnger\\anaconda3\\lib\\site-packages (from trio~=0.17->selenium) (2.10)\n",
      "Requirement already satisfied: sortedcontainers in c:\\users\\kunnger\\anaconda3\\lib\\site-packages (from trio~=0.17->selenium) (2.3.0)\n",
      "Requirement already satisfied: attrs>=20.1.0 in c:\\users\\kunnger\\anaconda3\\lib\\site-packages (from trio~=0.17->selenium) (20.3.0)\n",
      "Collecting exceptiongroup\n",
      "  Downloading exceptiongroup-1.2.0-py3-none-any.whl (16 kB)\n",
      "Requirement already satisfied: pycparser in c:\\users\\kunnger\\anaconda3\\lib\\site-packages (from cffi>=1.14->trio~=0.17->selenium) (2.20)\n",
      "Collecting wsproto>=0.14\n",
      "  Downloading wsproto-1.2.0-py3-none-any.whl (24 kB)\n",
      "Requirement already satisfied: PySocks!=1.5.7,<2.0,>=1.5.6 in c:\\users\\kunnger\\anaconda3\\lib\\site-packages (from urllib3[socks]<3,>=1.26->selenium) (1.7.1)\n",
      "Collecting h11<1,>=0.9.0\n",
      "  Downloading h11-0.14.0-py3-none-any.whl (58 kB)\n",
      "Installing collected packages: sniffio, outcome, h11, exceptiongroup, wsproto, trio, trio-websocket, certifi, selenium\n",
      "  Attempting uninstall: sniffio\n",
      "    Found existing installation: sniffio 1.2.0\n",
      "    Uninstalling sniffio-1.2.0:\n",
      "      Successfully uninstalled sniffio-1.2.0\n",
      "  Attempting uninstall: certifi\n",
      "    Found existing installation: certifi 2020.12.5\n",
      "    Uninstalling certifi-2020.12.5:\n",
      "      Successfully uninstalled certifi-2020.12.5\n",
      "Successfully installed certifi-2023.11.17 exceptiongroup-1.2.0 h11-0.14.0 outcome-1.3.0.post0 selenium-4.16.0 sniffio-1.3.0 trio-0.23.2 trio-websocket-0.11.1 wsproto-1.2.0\n"
     ]
    },
    {
     "name": "stderr",
     "output_type": "stream",
     "text": [
      "ERROR: pip's dependency resolver does not currently take into account all the packages that are installed. This behaviour is the source of the following dependency conflicts.\n",
      "conda-repo-cli 1.0.4 requires pathlib, which is not installed.\n",
      "anaconda-project 0.9.1 requires ruamel-yaml, which is not installed.\n"
     ]
    },
    {
     "name": "stdout",
     "output_type": "stream",
     "text": [
      "Requirement already satisfied: beautifulsoup4 in c:\\users\\kunnger\\anaconda3\\lib\\site-packages (4.9.3)\n",
      "Requirement already satisfied: soupsieve>1.2 in c:\\users\\kunnger\\anaconda3\\lib\\site-packages (from beautifulsoup4) (2.2.1)\n"
     ]
    }
   ],
   "source": [
    "# !pip install selenium\n",
    "# !pip install beautifulsoup4"
   ]
  },
  {
   "cell_type": "code",
   "execution_count": 3,
   "metadata": {},
   "outputs": [],
   "source": [
    "import numpy as np\n",
    "import pandas as pd\n",
    "import requests\n",
    "from bs4 import BeautifulSoup\n",
    "from selenium import webdriver \n",
    "from selenium.webdriver.common.by import By\n",
    "from selenium.webdriver.common.keys import Keys\n",
    "import time\n",
    "from tqdm import tqdm"
   ]
  },
  {
   "cell_type": "code",
   "execution_count": 6,
   "metadata": {},
   "outputs": [],
   "source": [
    "#path to the webdriver file\n",
    "service = webdriver.ChromeService(executable_path = 'chromedriver.exe')\n",
    "driver = webdriver.Chrome(service=service)\n",
    "url = 'https://www.imdb.com/search/title/?groups=top_100'\n",
    "driver.get(url)\n"
   ]
  },
  {
   "cell_type": "code",
   "execution_count": 7,
   "metadata": {},
   "outputs": [],
   "source": [
    "# Set initial empty list for each element:\n",
    "title = []\n",
    "link = []\n",
    "# Grab the block of each individual movie\n",
    "blocks = driver.find_elements(By.CLASS_NAME, \"ipc-metadata-list-summary-item\")\n",
    "\n",
    "# Set up a for loop to run through all movies\n",
    "for i in range(0,50):\n",
    "    # Extracting title\n",
    "    ftitle = blocks[i].find_element(By.CLASS_NAME, 'ipc-title__text').text\n",
    "\n",
    "    # Then extract the link with cleaned title\n",
    "    flink = blocks[i].find_element(By.LINK_TEXT, ftitle).get_attribute('href')\n",
    "\n",
    "    # Add item to the respective lists\n",
    "    title.append(ftitle)\n",
    "    link.append(flink)\n"
   ]
  },
  {
   "cell_type": "code",
   "execution_count": 8,
   "metadata": {},
   "outputs": [],
   "source": [
    "user_review_links = []\n",
    "for url in link:\n",
    "    try:\n",
    "        #setup user agent for BS4, except some rare case, it would be the same for most browser \n",
    "        user_agent = {'User-agent': 'Mozilla/5.0'}\n",
    "        #Use request.get to load the whole page\n",
    "        response = requests.get(url, headers = user_agent)\n",
    "        #Parse the requests object to BS4 to transform it into html structure\n",
    "        soup = BeautifulSoup(response.text, 'html.parser')\n",
    "        #Find the link marked by the USER REVIEWS link text.\n",
    "        review_link = 'https://www.imdb.com'+soup.find('a', text = 'User reviews').get('href')\n",
    "        #Append the newly grabed link into its list\n",
    "        user_review_links.append(review_link)\n",
    "    except:\n",
    "            print(url)"
   ]
  },
  {
   "cell_type": "code",
   "execution_count": 9,
   "metadata": {},
   "outputs": [
    {
     "data": {
      "text/plain": [
       "50"
      ]
     },
     "execution_count": 9,
     "metadata": {},
     "output_type": "execute_result"
    }
   ],
   "source": [
    "len(user_review_links)"
   ]
  },
  {
   "cell_type": "code",
   "execution_count": 39,
   "metadata": {},
   "outputs": [],
   "source": [
    "replacements = {'\\n': '', '*': '', '\\\\': ''}\n",
    "\n",
    "movie_title = []\n",
    "review_title = []\n",
    "content = []\n",
    "rating = []\n",
    "index = 0\n",
    "\n",
    "for review_link in user_review_links:\n",
    "\n",
    "    review_driver = webdriver.Chrome(service=service)\n",
    "    review_driver.get(review_link)\n",
    "\n",
    "    fmovie_title = title[index]\n",
    "    index += 1\n",
    "\n",
    "    blocks = review_driver.find_elements(By.CLASS_NAME, \"lister-item-content\")\n",
    "\n",
    "    for i in range(len(blocks)):\n",
    "        try:\n",
    "            # Extracting title\n",
    "            ftitle = blocks[i].find_element(By.CLASS_NAME, 'title').text\n",
    "\n",
    "            fcontent = blocks[i].find_element(By.CLASS_NAME, 'content').text\n",
    "            replaced_chars = [replacements.get(char, char) for char in fcontent[:-87]]\n",
    "            result = ''.join(replaced_chars)\n",
    "\n",
    "            fratting = (blocks[i].find_element(By.CLASS_NAME, 'rating-other-user-rating').text)[:-3]\n",
    "\n",
    "            # Add item to the respective lists\n",
    "            movie_title.append(fmovie_title)\n",
    "            review_title.append(ftitle)\n",
    "            content.append(result)\n",
    "            rating.append(fratting)\n",
    "        except:\n",
    "            continue\n",
    "    review_driver.quit()\n",
    "    "
   ]
  },
  {
   "cell_type": "markdown",
   "metadata": {},
   "source": [
    "# Export to csv file"
   ]
  },
  {
   "cell_type": "code",
   "execution_count": 40,
   "metadata": {},
   "outputs": [],
   "source": [
    "#Build data dictionary for dataframe\n",
    "data = {'Movie_name': movie_title, \n",
    "        'Review Rating': rating,\n",
    "        'Review title': review_title, \n",
    "        'Review_content' : content\n",
    "   }\n",
    "#Build dataframe to export\n",
    "review = pd.DataFrame(data = data)"
   ]
  },
  {
   "cell_type": "code",
   "execution_count": 41,
   "metadata": {},
   "outputs": [
    {
     "data": {
      "text/html": [
       "<div>\n",
       "<style scoped>\n",
       "    .dataframe tbody tr th:only-of-type {\n",
       "        vertical-align: middle;\n",
       "    }\n",
       "\n",
       "    .dataframe tbody tr th {\n",
       "        vertical-align: top;\n",
       "    }\n",
       "\n",
       "    .dataframe thead th {\n",
       "        text-align: right;\n",
       "    }\n",
       "</style>\n",
       "<table border=\"1\" class=\"dataframe\">\n",
       "  <thead>\n",
       "    <tr style=\"text-align: right;\">\n",
       "      <th></th>\n",
       "      <th>Movie_name</th>\n",
       "      <th>Review Rating</th>\n",
       "      <th>Review title</th>\n",
       "      <th>Review_content</th>\n",
       "    </tr>\n",
       "  </thead>\n",
       "  <tbody>\n",
       "    <tr>\n",
       "      <th>0</th>\n",
       "      <td>1. Oppenheimer</td>\n",
       "      <td>8</td>\n",
       "      <td>A challenging watch to be sure, but a worthwhi...</td>\n",
       "      <td></td>\n",
       "    </tr>\n",
       "    <tr>\n",
       "      <th>1</th>\n",
       "      <td>1. Oppenheimer</td>\n",
       "      <td>9</td>\n",
       "      <td>Murphy is exceptional</td>\n",
       "      <td>You'll have to have your wits about you and yo...</td>\n",
       "    </tr>\n",
       "    <tr>\n",
       "      <th>2</th>\n",
       "      <td>1. Oppenheimer</td>\n",
       "      <td>7</td>\n",
       "      <td>Quality but exhausting</td>\n",
       "      <td>I'm a big fan of Nolan's work so was really lo...</td>\n",
       "    </tr>\n",
       "    <tr>\n",
       "      <th>3</th>\n",
       "      <td>1. Oppenheimer</td>\n",
       "      <td>10</td>\n",
       "      <td>A brilliantly layered examination of a man thr...</td>\n",
       "      <td>\"Oppenheimer\" is a biographical thriller film ...</td>\n",
       "    </tr>\n",
       "    <tr>\n",
       "      <th>4</th>\n",
       "      <td>1. Oppenheimer</td>\n",
       "      <td>10</td>\n",
       "      <td>Nolan delivers a powerfull biopic that shows t...</td>\n",
       "      <td>This movie is just... wow! I don't think I hav...</td>\n",
       "    </tr>\n",
       "  </tbody>\n",
       "</table>\n",
       "</div>"
      ],
      "text/plain": [
       "       Movie_name Review Rating  \\\n",
       "0  1. Oppenheimer             8   \n",
       "1  1. Oppenheimer             9   \n",
       "2  1. Oppenheimer             7   \n",
       "3  1. Oppenheimer            10   \n",
       "4  1. Oppenheimer            10   \n",
       "\n",
       "                                        Review title  \\\n",
       "0  A challenging watch to be sure, but a worthwhi...   \n",
       "1                              Murphy is exceptional   \n",
       "2                             Quality but exhausting   \n",
       "3  A brilliantly layered examination of a man thr...   \n",
       "4  Nolan delivers a powerfull biopic that shows t...   \n",
       "\n",
       "                                      Review_content  \n",
       "0                                                     \n",
       "1  You'll have to have your wits about you and yo...  \n",
       "2  I'm a big fan of Nolan's work so was really lo...  \n",
       "3  \"Oppenheimer\" is a biographical thriller film ...  \n",
       "4  This movie is just... wow! I don't think I hav...  "
      ]
     },
     "execution_count": 41,
     "metadata": {},
     "output_type": "execute_result"
    }
   ],
   "source": [
    "review.head()"
   ]
  },
  {
   "cell_type": "code",
   "execution_count": 42,
   "metadata": {},
   "outputs": [
    {
     "data": {
      "text/html": [
       "<div>\n",
       "<style scoped>\n",
       "    .dataframe tbody tr th:only-of-type {\n",
       "        vertical-align: middle;\n",
       "    }\n",
       "\n",
       "    .dataframe tbody tr th {\n",
       "        vertical-align: top;\n",
       "    }\n",
       "\n",
       "    .dataframe thead th {\n",
       "        text-align: right;\n",
       "    }\n",
       "</style>\n",
       "<table border=\"1\" class=\"dataframe\">\n",
       "  <thead>\n",
       "    <tr style=\"text-align: right;\">\n",
       "      <th></th>\n",
       "      <th>Movie_name</th>\n",
       "      <th>Review Rating</th>\n",
       "      <th>Review title</th>\n",
       "      <th>Review_content</th>\n",
       "    </tr>\n",
       "  </thead>\n",
       "  <tbody>\n",
       "    <tr>\n",
       "      <th>1105</th>\n",
       "      <td>50. Casablanca</td>\n",
       "      <td>10</td>\n",
       "      <td>\"Who's got trouble? We got trouble.\"</td>\n",
       "      <td>For the Allies, 1943 was perhaps the grimmest ...</td>\n",
       "    </tr>\n",
       "    <tr>\n",
       "      <th>1106</th>\n",
       "      <td>50. Casablanca</td>\n",
       "      <td>10</td>\n",
       "      <td>We'll Always Have Casablanca</td>\n",
       "      <td>Spoilers ahead, but then again, who isn't fami...</td>\n",
       "    </tr>\n",
       "    <tr>\n",
       "      <th>1107</th>\n",
       "      <td>50. Casablanca</td>\n",
       "      <td>10</td>\n",
       "      <td>For all-around entertainment, the best I've ev...</td>\n",
       "      <td></td>\n",
       "    </tr>\n",
       "    <tr>\n",
       "      <th>1108</th>\n",
       "      <td>50. Casablanca</td>\n",
       "      <td>10</td>\n",
       "      <td>NEVER FORGET ALL THESE GREAT WARNER BROTHERS P...</td>\n",
       "      <td>They're all gone now, but you have to tip your...</td>\n",
       "    </tr>\n",
       "    <tr>\n",
       "      <th>1109</th>\n",
       "      <td>50. Casablanca</td>\n",
       "      <td>10</td>\n",
       "      <td>Rightfully one of cinema's finest stories ever...</td>\n",
       "      <td>\"Casablanca\" is a timely and timeless classic ...</td>\n",
       "    </tr>\n",
       "  </tbody>\n",
       "</table>\n",
       "</div>"
      ],
      "text/plain": [
       "          Movie_name Review Rating  \\\n",
       "1105  50. Casablanca            10   \n",
       "1106  50. Casablanca            10   \n",
       "1107  50. Casablanca            10   \n",
       "1108  50. Casablanca            10   \n",
       "1109  50. Casablanca            10   \n",
       "\n",
       "                                           Review title  \\\n",
       "1105               \"Who's got trouble? We got trouble.\"   \n",
       "1106                       We'll Always Have Casablanca   \n",
       "1107  For all-around entertainment, the best I've ev...   \n",
       "1108  NEVER FORGET ALL THESE GREAT WARNER BROTHERS P...   \n",
       "1109  Rightfully one of cinema's finest stories ever...   \n",
       "\n",
       "                                         Review_content  \n",
       "1105  For the Allies, 1943 was perhaps the grimmest ...  \n",
       "1106  Spoilers ahead, but then again, who isn't fami...  \n",
       "1107                                                     \n",
       "1108  They're all gone now, but you have to tip your...  \n",
       "1109  \"Casablanca\" is a timely and timeless classic ...  "
      ]
     },
     "execution_count": 42,
     "metadata": {},
     "output_type": "execute_result"
    }
   ],
   "source": [
    "review.tail()"
   ]
  },
  {
   "cell_type": "code",
   "execution_count": 44,
   "metadata": {},
   "outputs": [],
   "source": [
    "review.to_csv('csv_result/imdb_top_movie_review.csv',index=False)"
   ]
  },
  {
   "cell_type": "code",
   "execution_count": 45,
   "metadata": {},
   "outputs": [],
   "source": [
    "link_data = {'Movie_name': title, \n",
    "        'Movie link': link,\n",
    "        'Review link': user_review_links\n",
    "   }\n",
    "#Build dataframe to export\n",
    "moive_review_link = pd.DataFrame(data = link_data)"
   ]
  },
  {
   "cell_type": "code",
   "execution_count": 48,
   "metadata": {},
   "outputs": [
    {
     "data": {
      "text/html": [
       "<div>\n",
       "<style scoped>\n",
       "    .dataframe tbody tr th:only-of-type {\n",
       "        vertical-align: middle;\n",
       "    }\n",
       "\n",
       "    .dataframe tbody tr th {\n",
       "        vertical-align: top;\n",
       "    }\n",
       "\n",
       "    .dataframe thead th {\n",
       "        text-align: right;\n",
       "    }\n",
       "</style>\n",
       "<table border=\"1\" class=\"dataframe\">\n",
       "  <thead>\n",
       "    <tr style=\"text-align: right;\">\n",
       "      <th></th>\n",
       "      <th>Movie_name</th>\n",
       "      <th>Movie link</th>\n",
       "      <th>Review link</th>\n",
       "    </tr>\n",
       "  </thead>\n",
       "  <tbody>\n",
       "    <tr>\n",
       "      <th>0</th>\n",
       "      <td>1. Oppenheimer</td>\n",
       "      <td>https://www.imdb.com/title/tt15398776/?ref_=sr...</td>\n",
       "      <td>https://www.imdb.com/title/tt15398776/reviews/...</td>\n",
       "    </tr>\n",
       "    <tr>\n",
       "      <th>1</th>\n",
       "      <td>2. It's a Wonderful Life</td>\n",
       "      <td>https://www.imdb.com/title/tt0038650/?ref_=sr_t_2</td>\n",
       "      <td>https://www.imdb.com/title/tt0038650/reviews/?...</td>\n",
       "    </tr>\n",
       "    <tr>\n",
       "      <th>2</th>\n",
       "      <td>3. Parasite</td>\n",
       "      <td>https://www.imdb.com/title/tt6751668/?ref_=sr_t_3</td>\n",
       "      <td>https://www.imdb.com/title/tt6751668/reviews/?...</td>\n",
       "    </tr>\n",
       "    <tr>\n",
       "      <th>3</th>\n",
       "      <td>4. Spider-Man: Across the Spider-Verse</td>\n",
       "      <td>https://www.imdb.com/title/tt9362722/?ref_=sr_t_4</td>\n",
       "      <td>https://www.imdb.com/title/tt9362722/reviews/?...</td>\n",
       "    </tr>\n",
       "    <tr>\n",
       "      <th>4</th>\n",
       "      <td>5. The Shawshank Redemption</td>\n",
       "      <td>https://www.imdb.com/title/tt0111161/?ref_=sr_t_5</td>\n",
       "      <td>https://www.imdb.com/title/tt0111161/reviews/?...</td>\n",
       "    </tr>\n",
       "  </tbody>\n",
       "</table>\n",
       "</div>"
      ],
      "text/plain": [
       "                               Movie_name  \\\n",
       "0                          1. Oppenheimer   \n",
       "1                2. It's a Wonderful Life   \n",
       "2                             3. Parasite   \n",
       "3  4. Spider-Man: Across the Spider-Verse   \n",
       "4             5. The Shawshank Redemption   \n",
       "\n",
       "                                          Movie link  \\\n",
       "0  https://www.imdb.com/title/tt15398776/?ref_=sr...   \n",
       "1  https://www.imdb.com/title/tt0038650/?ref_=sr_t_2   \n",
       "2  https://www.imdb.com/title/tt6751668/?ref_=sr_t_3   \n",
       "3  https://www.imdb.com/title/tt9362722/?ref_=sr_t_4   \n",
       "4  https://www.imdb.com/title/tt0111161/?ref_=sr_t_5   \n",
       "\n",
       "                                         Review link  \n",
       "0  https://www.imdb.com/title/tt15398776/reviews/...  \n",
       "1  https://www.imdb.com/title/tt0038650/reviews/?...  \n",
       "2  https://www.imdb.com/title/tt6751668/reviews/?...  \n",
       "3  https://www.imdb.com/title/tt9362722/reviews/?...  \n",
       "4  https://www.imdb.com/title/tt0111161/reviews/?...  "
      ]
     },
     "execution_count": 48,
     "metadata": {},
     "output_type": "execute_result"
    }
   ],
   "source": [
    "moive_review_link.head()"
   ]
  },
  {
   "cell_type": "code",
   "execution_count": 49,
   "metadata": {},
   "outputs": [],
   "source": [
    "moive_review_link.to_csv('csv_result/imdb_top_movie_link.csv',index=False)"
   ]
  }
 ],
 "metadata": {
  "kernelspec": {
   "display_name": "base",
   "language": "python",
   "name": "python3"
  },
  "language_info": {
   "codemirror_mode": {
    "name": "ipython",
    "version": 3
   },
   "file_extension": ".py",
   "mimetype": "text/x-python",
   "name": "python",
   "nbconvert_exporter": "python",
   "pygments_lexer": "ipython3",
   "version": "3.8.8"
  }
 },
 "nbformat": 4,
 "nbformat_minor": 2
}
