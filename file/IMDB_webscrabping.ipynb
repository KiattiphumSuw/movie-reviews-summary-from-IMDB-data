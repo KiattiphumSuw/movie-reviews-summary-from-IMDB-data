{
 "cells": [
  {
   "cell_type": "code",
   "execution_count": 29,
   "metadata": {},
   "outputs": [],
   "source": [
    "# !pip install selenium\n",
    "# !pip install beautifulsoup4"
   ]
  },
  {
   "cell_type": "code",
   "execution_count": 30,
   "metadata": {},
   "outputs": [],
   "source": [
    "import numpy as np\n",
    "import pandas as pd\n",
    "import requests\n",
    "from bs4 import BeautifulSoup\n",
    "from selenium import webdriver \n",
    "from selenium.webdriver.common.by import By\n",
    "from selenium.webdriver.common.keys import Keys\n",
    "import time\n",
    "from tqdm import tqdm"
   ]
  },
  {
   "cell_type": "code",
   "execution_count": 31,
   "metadata": {},
   "outputs": [
    {
     "ename": "NoSuchWindowException",
     "evalue": "Message: no such window: target window already closed\nfrom unknown error: web view not found\n  (Session info: chrome=120.0.6099.130)\nStacktrace:\n\tGetHandleVerifier [0x00007FF6E2E32142+3514994]\n\t(No symbol) [0x00007FF6E2A50CE2]\n\t(No symbol) [0x00007FF6E28F76AA]\n\t(No symbol) [0x00007FF6E28D0AFD]\n\t(No symbol) [0x00007FF6E296CB1B]\n\t(No symbol) [0x00007FF6E298218F]\n\t(No symbol) [0x00007FF6E2965D93]\n\t(No symbol) [0x00007FF6E2934BDC]\n\t(No symbol) [0x00007FF6E2935C64]\n\tGetHandleVerifier [0x00007FF6E2E5E16B+3695259]\n\tGetHandleVerifier [0x00007FF6E2EB6737+4057191]\n\tGetHandleVerifier [0x00007FF6E2EAE4E3+4023827]\n\tGetHandleVerifier [0x00007FF6E2B804F9+689705]\n\t(No symbol) [0x00007FF6E2A5C048]\n\t(No symbol) [0x00007FF6E2A58044]\n\t(No symbol) [0x00007FF6E2A581C9]\n\t(No symbol) [0x00007FF6E2A488C4]\n\tBaseThreadInitThunk [0x00007FF9BBD57344+20]\n\tRtlUserThreadStart [0x00007FF9BDB226B1+33]\n",
     "output_type": "error",
     "traceback": [
      "\u001b[1;31m---------------------------------------------------------------------------\u001b[0m",
      "\u001b[1;31mNoSuchWindowException\u001b[0m                     Traceback (most recent call last)",
      "Cell \u001b[1;32mIn[31], line 9\u001b[0m\n\u001b[0;32m      5\u001b[0m driver\u001b[38;5;241m.\u001b[39mget(url)\n\u001b[0;32m      8\u001b[0m time\u001b[38;5;241m.\u001b[39msleep(\u001b[38;5;241m1\u001b[39m)\n\u001b[1;32m----> 9\u001b[0m \u001b[38;5;28mprint\u001b[39m(\u001b[43mdriver\u001b[49m\u001b[38;5;241;43m.\u001b[39;49m\u001b[43mtitle\u001b[49m)\n\u001b[0;32m     10\u001b[0m time\u001b[38;5;241m.\u001b[39msleep(\u001b[38;5;241m1\u001b[39m)\n\u001b[0;32m     11\u001b[0m body \u001b[38;5;241m=\u001b[39m driver\u001b[38;5;241m.\u001b[39mfind_element(By\u001b[38;5;241m.\u001b[39mCSS_SELECTOR, \u001b[38;5;124m'\u001b[39m\u001b[38;5;124mbody\u001b[39m\u001b[38;5;124m'\u001b[39m)\n",
      "File \u001b[1;32mc:\\Users\\Tiger\\anaconda3\\lib\\site-packages\\selenium\\webdriver\\remote\\webdriver.py:368\u001b[0m, in \u001b[0;36mWebDriver.title\u001b[1;34m(self)\u001b[0m\n\u001b[0;32m    359\u001b[0m \u001b[38;5;129m@property\u001b[39m\n\u001b[0;32m    360\u001b[0m \u001b[38;5;28;01mdef\u001b[39;00m \u001b[38;5;21mtitle\u001b[39m(\u001b[38;5;28mself\u001b[39m) \u001b[38;5;241m-\u001b[39m\u001b[38;5;241m>\u001b[39m \u001b[38;5;28mstr\u001b[39m:\n\u001b[0;32m    361\u001b[0m \u001b[38;5;250m    \u001b[39m\u001b[38;5;124;03m\"\"\"Returns the title of the current page.\u001b[39;00m\n\u001b[0;32m    362\u001b[0m \n\u001b[0;32m    363\u001b[0m \u001b[38;5;124;03m    :Usage:\u001b[39;00m\n\u001b[1;32m   (...)\u001b[0m\n\u001b[0;32m    366\u001b[0m \u001b[38;5;124;03m            title = driver.title\u001b[39;00m\n\u001b[0;32m    367\u001b[0m \u001b[38;5;124;03m    \"\"\"\u001b[39;00m\n\u001b[1;32m--> 368\u001b[0m     \u001b[38;5;28;01mreturn\u001b[39;00m \u001b[38;5;28;43mself\u001b[39;49m\u001b[38;5;241;43m.\u001b[39;49m\u001b[43mexecute\u001b[49m\u001b[43m(\u001b[49m\u001b[43mCommand\u001b[49m\u001b[38;5;241;43m.\u001b[39;49m\u001b[43mGET_TITLE\u001b[49m\u001b[43m)\u001b[49m\u001b[38;5;241m.\u001b[39mget(\u001b[38;5;124m\"\u001b[39m\u001b[38;5;124mvalue\u001b[39m\u001b[38;5;124m\"\u001b[39m, \u001b[38;5;124m\"\u001b[39m\u001b[38;5;124m\"\u001b[39m)\n",
      "File \u001b[1;32mc:\\Users\\Tiger\\anaconda3\\lib\\site-packages\\selenium\\webdriver\\remote\\webdriver.py:348\u001b[0m, in \u001b[0;36mWebDriver.execute\u001b[1;34m(self, driver_command, params)\u001b[0m\n\u001b[0;32m    346\u001b[0m response \u001b[38;5;241m=\u001b[39m \u001b[38;5;28mself\u001b[39m\u001b[38;5;241m.\u001b[39mcommand_executor\u001b[38;5;241m.\u001b[39mexecute(driver_command, params)\n\u001b[0;32m    347\u001b[0m \u001b[38;5;28;01mif\u001b[39;00m response:\n\u001b[1;32m--> 348\u001b[0m     \u001b[38;5;28;43mself\u001b[39;49m\u001b[38;5;241;43m.\u001b[39;49m\u001b[43merror_handler\u001b[49m\u001b[38;5;241;43m.\u001b[39;49m\u001b[43mcheck_response\u001b[49m\u001b[43m(\u001b[49m\u001b[43mresponse\u001b[49m\u001b[43m)\u001b[49m\n\u001b[0;32m    349\u001b[0m     response[\u001b[38;5;124m\"\u001b[39m\u001b[38;5;124mvalue\u001b[39m\u001b[38;5;124m\"\u001b[39m] \u001b[38;5;241m=\u001b[39m \u001b[38;5;28mself\u001b[39m\u001b[38;5;241m.\u001b[39m_unwrap_value(response\u001b[38;5;241m.\u001b[39mget(\u001b[38;5;124m\"\u001b[39m\u001b[38;5;124mvalue\u001b[39m\u001b[38;5;124m\"\u001b[39m, \u001b[38;5;28;01mNone\u001b[39;00m))\n\u001b[0;32m    350\u001b[0m     \u001b[38;5;28;01mreturn\u001b[39;00m response\n",
      "File \u001b[1;32mc:\\Users\\Tiger\\anaconda3\\lib\\site-packages\\selenium\\webdriver\\remote\\errorhandler.py:229\u001b[0m, in \u001b[0;36mErrorHandler.check_response\u001b[1;34m(self, response)\u001b[0m\n\u001b[0;32m    227\u001b[0m         alert_text \u001b[38;5;241m=\u001b[39m value[\u001b[38;5;124m\"\u001b[39m\u001b[38;5;124malert\u001b[39m\u001b[38;5;124m\"\u001b[39m]\u001b[38;5;241m.\u001b[39mget(\u001b[38;5;124m\"\u001b[39m\u001b[38;5;124mtext\u001b[39m\u001b[38;5;124m\"\u001b[39m)\n\u001b[0;32m    228\u001b[0m     \u001b[38;5;28;01mraise\u001b[39;00m exception_class(message, screen, stacktrace, alert_text)  \u001b[38;5;66;03m# type: ignore[call-arg]  # mypy is not smart enough here\u001b[39;00m\n\u001b[1;32m--> 229\u001b[0m \u001b[38;5;28;01mraise\u001b[39;00m exception_class(message, screen, stacktrace)\n",
      "\u001b[1;31mNoSuchWindowException\u001b[0m: Message: no such window: target window already closed\nfrom unknown error: web view not found\n  (Session info: chrome=120.0.6099.130)\nStacktrace:\n\tGetHandleVerifier [0x00007FF6E2E32142+3514994]\n\t(No symbol) [0x00007FF6E2A50CE2]\n\t(No symbol) [0x00007FF6E28F76AA]\n\t(No symbol) [0x00007FF6E28D0AFD]\n\t(No symbol) [0x00007FF6E296CB1B]\n\t(No symbol) [0x00007FF6E298218F]\n\t(No symbol) [0x00007FF6E2965D93]\n\t(No symbol) [0x00007FF6E2934BDC]\n\t(No symbol) [0x00007FF6E2935C64]\n\tGetHandleVerifier [0x00007FF6E2E5E16B+3695259]\n\tGetHandleVerifier [0x00007FF6E2EB6737+4057191]\n\tGetHandleVerifier [0x00007FF6E2EAE4E3+4023827]\n\tGetHandleVerifier [0x00007FF6E2B804F9+689705]\n\t(No symbol) [0x00007FF6E2A5C048]\n\t(No symbol) [0x00007FF6E2A58044]\n\t(No symbol) [0x00007FF6E2A581C9]\n\t(No symbol) [0x00007FF6E2A488C4]\n\tBaseThreadInitThunk [0x00007FF9BBD57344+20]\n\tRtlUserThreadStart [0x00007FF9BDB226B1+33]\n"
     ]
    }
   ],
   "source": [
    "#path to the webdriver file\n",
    "service = webdriver.ChromeService(executable_path = 'chromedriver.exe')\n",
    "driver = webdriver.Chrome(service=service)\n",
    "url = 'https://www.imdb.com/search/title/?groups=top_100'\n",
    "driver.get(url)\n"
   ]
  },
  {
   "cell_type": "code",
   "execution_count": null,
   "metadata": {},
   "outputs": [],
   "source": [
    "# Set initial empty list for each element:\n",
    "title = []\n",
    "link = []\n",
    "# Grab the block of each individual movie\n",
    "# blocks = driver.find_elements_by_class_name('lister-item')\n",
    "blocks = driver.find_elements(By.CLASS_NAME, \"ipc-metadata-list-summary-item\")\n",
    "\n",
    "# Set up a for loop to run through all movies\n",
    "for i in range(0,50):\n",
    "    # Extracting title\n",
    "    ftitle = blocks[i].find_element(By.CLASS_NAME, 'ipc-title__text').text\n",
    "\n",
    "    # Then extract the link with cleaned title\n",
    "    flink = blocks[i].find_element(By.LINK_TEXT, ftitle).get_attribute('href')\n",
    "\n",
    "    # Add item to the respective lists\n",
    "    title.append(ftitle)\n",
    "    link.append(flink)\n"
   ]
  },
  {
   "cell_type": "code",
   "execution_count": 38,
   "metadata": {},
   "outputs": [
    {
     "name": "stdout",
     "output_type": "stream",
     "text": [
      "https://www.imdb.com/title/tt0038650/?ref_=sr_t_2\n"
     ]
    }
   ],
   "source": [
    "user_review_links = []\n",
    "for url in link:\n",
    "    try:\n",
    "        #setup user agent for BS4, except some rare case, it would be the same for most browser \n",
    "        user_agent = {'User-agent': 'Mozilla/5.0'}\n",
    "        #Use request.get to load the whole page\n",
    "        response = requests.get(url, headers = user_agent)\n",
    "        #Parse the requests object to BS4 to transform it into html structure\n",
    "        soup = BeautifulSoup(response.text, 'html.parser')\n",
    "        #Find the link marked by the USER REVIEWS link text.\n",
    "        review_link = 'https://www.imdb.com'+soup.find('a', text = 'User reviews').get('href')\n",
    "        #Append the newly grabed link into its list\n",
    "        user_review_links.append(review_link)\n",
    "    except:\n",
    "            print(url)"
   ]
  },
  {
   "cell_type": "code",
   "execution_count": 1,
   "metadata": {},
   "outputs": [
    {
     "ename": "NameError",
     "evalue": "name 'user_review_links' is not defined",
     "output_type": "error",
     "traceback": [
      "\u001b[1;31m---------------------------------------------------------------------------\u001b[0m",
      "\u001b[1;31mNameError\u001b[0m                                 Traceback (most recent call last)",
      "Cell \u001b[1;32mIn[1], line 1\u001b[0m\n\u001b[1;32m----> 1\u001b[0m \u001b[38;5;28mlen\u001b[39m(\u001b[43muser_review_links\u001b[49m)\n",
      "\u001b[1;31mNameError\u001b[0m: name 'user_review_links' is not defined"
     ]
    }
   ],
   "source": [
    "len(user_review_links)"
   ]
  },
  {
   "cell_type": "code",
   "execution_count": null,
   "metadata": {},
   "outputs": [],
   "source": [
    "movie_title = []\n",
    "review_title = []\n",
    "content = []\n",
    "rating = []\n",
    "index = 0\n",
    "\n",
    "for review_link in user_review_links:\n",
    "\n",
    "    review_driver = webdriver.Chrome(service=service)\n",
    "    review_driver.get(review_link)\n",
    "\n",
    "    fmovie_title = title[index]\n",
    "    index += 1\n",
    "\n",
    "    blocks = review_driver.find_elements(By.CLASS_NAME, \"lister-item-content\")\n",
    "\n",
    "    for i in range(len(blocks)):\n",
    "        try:\n",
    "            # Extracting title\n",
    "            ftitle = blocks[i].find_element(By.CLASS_NAME, 'title').text\n",
    "            fcontent = blocks[i].find_element(By.CLASS_NAME, 'content').text\n",
    "            fratting = blocks[i].find_element(By.CLASS_NAME, 'rating-other-user-rating').text\n",
    "\n",
    "            # Add item to the respective lists\n",
    "            movie_title.append(fmovie_title)\n",
    "            review_title.append(ftitle)\n",
    "            content.append(fcontent)\n",
    "            rating.append(fratting)\n",
    "        except:\n",
    "            continue\n",
    "    review_driver.quit()\n",
    "    "
   ]
  },
  {
   "cell_type": "markdown",
   "metadata": {},
   "source": [
    "# Export to csv file"
   ]
  },
  {
   "cell_type": "code",
   "execution_count": 20,
   "metadata": {},
   "outputs": [],
   "source": [
    "#Build data dictionary for dataframe\n",
    "data = {'Movie_name': movie_title, \n",
    "        'Review Rating': rating,\n",
    "        'Review title': review_title, \n",
    "        'Review_content' : content\n",
    "   }\n",
    "#Build dataframe to export\n",
    "review = pd.DataFrame(data = data)"
   ]
  },
  {
   "cell_type": "code",
   "execution_count": 21,
   "metadata": {},
   "outputs": [
    {
     "data": {
      "text/html": [
       "<div>\n",
       "<style scoped>\n",
       "    .dataframe tbody tr th:only-of-type {\n",
       "        vertical-align: middle;\n",
       "    }\n",
       "\n",
       "    .dataframe tbody tr th {\n",
       "        vertical-align: top;\n",
       "    }\n",
       "\n",
       "    .dataframe thead th {\n",
       "        text-align: right;\n",
       "    }\n",
       "</style>\n",
       "<table border=\"1\" class=\"dataframe\">\n",
       "  <thead>\n",
       "    <tr style=\"text-align: right;\">\n",
       "      <th></th>\n",
       "      <th>Movie_name</th>\n",
       "      <th>Review Rating</th>\n",
       "      <th>Review title</th>\n",
       "      <th>Review_content</th>\n",
       "    </tr>\n",
       "  </thead>\n",
       "  <tbody>\n",
       "    <tr>\n",
       "      <th>0</th>\n",
       "      <td>1. Oppenheimer</td>\n",
       "      <td>8/10</td>\n",
       "      <td>A challenging watch to be sure, but a worthwhi...</td>\n",
       "      <td></td>\n",
       "    </tr>\n",
       "    <tr>\n",
       "      <th>1</th>\n",
       "      <td>1. Oppenheimer</td>\n",
       "      <td>9/10</td>\n",
       "      <td>Murphy is exceptional</td>\n",
       "      <td>You'll have to have your wits about you and yo...</td>\n",
       "    </tr>\n",
       "    <tr>\n",
       "      <th>2</th>\n",
       "      <td>1. Oppenheimer</td>\n",
       "      <td>7/10</td>\n",
       "      <td>Quality but exhausting</td>\n",
       "      <td>I'm a big fan of Nolan's work so was really lo...</td>\n",
       "    </tr>\n",
       "    <tr>\n",
       "      <th>3</th>\n",
       "      <td>1. Oppenheimer</td>\n",
       "      <td>10/10</td>\n",
       "      <td>A brilliantly layered examination of a man thr...</td>\n",
       "      <td>\"Oppenheimer\" is a biographical thriller film ...</td>\n",
       "    </tr>\n",
       "    <tr>\n",
       "      <th>4</th>\n",
       "      <td>1. Oppenheimer</td>\n",
       "      <td>10/10</td>\n",
       "      <td>Nolan delivers a powerfull biopic that shows t...</td>\n",
       "      <td>This movie is just... wow! I don't think I hav...</td>\n",
       "    </tr>\n",
       "  </tbody>\n",
       "</table>\n",
       "</div>"
      ],
      "text/plain": [
       "       Movie_name Review Rating  \\\n",
       "0  1. Oppenheimer          8/10   \n",
       "1  1. Oppenheimer          9/10   \n",
       "2  1. Oppenheimer          7/10   \n",
       "3  1. Oppenheimer         10/10   \n",
       "4  1. Oppenheimer         10/10   \n",
       "\n",
       "                                        Review title  \\\n",
       "0  A challenging watch to be sure, but a worthwhi...   \n",
       "1                              Murphy is exceptional   \n",
       "2                             Quality but exhausting   \n",
       "3  A brilliantly layered examination of a man thr...   \n",
       "4  Nolan delivers a powerfull biopic that shows t...   \n",
       "\n",
       "                                      Review_content  \n",
       "0                                                     \n",
       "1  You'll have to have your wits about you and yo...  \n",
       "2  I'm a big fan of Nolan's work so was really lo...  \n",
       "3  \"Oppenheimer\" is a biographical thriller film ...  \n",
       "4  This movie is just... wow! I don't think I hav...  "
      ]
     },
     "execution_count": 21,
     "metadata": {},
     "output_type": "execute_result"
    }
   ],
   "source": [
    "review.head()"
   ]
  },
  {
   "cell_type": "code",
   "execution_count": 22,
   "metadata": {},
   "outputs": [
    {
     "data": {
      "text/html": [
       "<div>\n",
       "<style scoped>\n",
       "    .dataframe tbody tr th:only-of-type {\n",
       "        vertical-align: middle;\n",
       "    }\n",
       "\n",
       "    .dataframe tbody tr th {\n",
       "        vertical-align: top;\n",
       "    }\n",
       "\n",
       "    .dataframe thead th {\n",
       "        text-align: right;\n",
       "    }\n",
       "</style>\n",
       "<table border=\"1\" class=\"dataframe\">\n",
       "  <thead>\n",
       "    <tr style=\"text-align: right;\">\n",
       "      <th></th>\n",
       "      <th>Movie_name</th>\n",
       "      <th>Review Rating</th>\n",
       "      <th>Review title</th>\n",
       "      <th>Review_content</th>\n",
       "    </tr>\n",
       "  </thead>\n",
       "  <tbody>\n",
       "    <tr>\n",
       "      <th>978</th>\n",
       "      <td>47. Star Wars: Episode IV - A New Hope</td>\n",
       "      <td>10/10</td>\n",
       "      <td>Just plain fun!</td>\n",
       "      <td></td>\n",
       "    </tr>\n",
       "    <tr>\n",
       "      <th>979</th>\n",
       "      <td>47. Star Wars: Episode IV - A New Hope</td>\n",
       "      <td>6/10</td>\n",
       "      <td>A great movie - for its time</td>\n",
       "      <td></td>\n",
       "    </tr>\n",
       "    <tr>\n",
       "      <th>980</th>\n",
       "      <td>47. Star Wars: Episode IV - A New Hope</td>\n",
       "      <td>10/10</td>\n",
       "      <td>A long time ago in a childhood not too far awa...</td>\n",
       "      <td>Princess Leia is captured and held hostage by ...</td>\n",
       "    </tr>\n",
       "    <tr>\n",
       "      <th>981</th>\n",
       "      <td>47. Star Wars: Episode IV - A New Hope</td>\n",
       "      <td>10/10</td>\n",
       "      <td>From the Lucasian Chair of Entertainment - a m...</td>\n",
       "      <td>I first saw this film on a warm March Sunday e...</td>\n",
       "    </tr>\n",
       "    <tr>\n",
       "      <th>982</th>\n",
       "      <td>47. Star Wars: Episode IV - A New Hope</td>\n",
       "      <td>10/10</td>\n",
       "      <td>the landmark space fantasy</td>\n",
       "      <td>what can you say about his movie.it set the ba...</td>\n",
       "    </tr>\n",
       "  </tbody>\n",
       "</table>\n",
       "</div>"
      ],
      "text/plain": [
       "                                 Movie_name Review Rating  \\\n",
       "978  47. Star Wars: Episode IV - A New Hope         10/10   \n",
       "979  47. Star Wars: Episode IV - A New Hope          6/10   \n",
       "980  47. Star Wars: Episode IV - A New Hope         10/10   \n",
       "981  47. Star Wars: Episode IV - A New Hope         10/10   \n",
       "982  47. Star Wars: Episode IV - A New Hope         10/10   \n",
       "\n",
       "                                          Review title  \\\n",
       "978                                    Just plain fun!   \n",
       "979                       A great movie - for its time   \n",
       "980  A long time ago in a childhood not too far awa...   \n",
       "981  From the Lucasian Chair of Entertainment - a m...   \n",
       "982                         the landmark space fantasy   \n",
       "\n",
       "                                        Review_content  \n",
       "978                                                     \n",
       "979                                                     \n",
       "980  Princess Leia is captured and held hostage by ...  \n",
       "981  I first saw this film on a warm March Sunday e...  \n",
       "982  what can you say about his movie.it set the ba...  "
      ]
     },
     "execution_count": 22,
     "metadata": {},
     "output_type": "execute_result"
    }
   ],
   "source": [
    "review.tail()"
   ]
  },
  {
   "cell_type": "code",
   "execution_count": 24,
   "metadata": {},
   "outputs": [],
   "source": [
    "review.to_csv('imdb_top_movie_review.csv',index=False)"
   ]
  },
  {
   "cell_type": "code",
   "execution_count": 34,
   "metadata": {},
   "outputs": [
    {
     "ename": "ValueError",
     "evalue": "All arrays must be of the same length",
     "output_type": "error",
     "traceback": [
      "\u001b[1;31m---------------------------------------------------------------------------\u001b[0m",
      "\u001b[1;31mValueError\u001b[0m                                Traceback (most recent call last)",
      "Cell \u001b[1;32mIn[34], line 6\u001b[0m\n\u001b[0;32m      1\u001b[0m link_data \u001b[38;5;241m=\u001b[39m {\u001b[38;5;124m'\u001b[39m\u001b[38;5;124mMovie_name\u001b[39m\u001b[38;5;124m'\u001b[39m: title, \n\u001b[0;32m      2\u001b[0m         \u001b[38;5;124m'\u001b[39m\u001b[38;5;124mMovie link\u001b[39m\u001b[38;5;124m'\u001b[39m: link,\n\u001b[0;32m      3\u001b[0m         \u001b[38;5;124m'\u001b[39m\u001b[38;5;124mReview link\u001b[39m\u001b[38;5;124m'\u001b[39m: user_review_links\n\u001b[0;32m      4\u001b[0m    }\n\u001b[0;32m      5\u001b[0m \u001b[38;5;66;03m#Build dataframe to export\u001b[39;00m\n\u001b[1;32m----> 6\u001b[0m moive_review_link \u001b[38;5;241m=\u001b[39m \u001b[43mpd\u001b[49m\u001b[38;5;241;43m.\u001b[39;49m\u001b[43mDataFrame\u001b[49m\u001b[43m(\u001b[49m\u001b[43mdata\u001b[49m\u001b[43m \u001b[49m\u001b[38;5;241;43m=\u001b[39;49m\u001b[43m \u001b[49m\u001b[43mlink_data\u001b[49m\u001b[43m)\u001b[49m\n",
      "File \u001b[1;32mc:\\Users\\Tiger\\anaconda3\\lib\\site-packages\\pandas\\core\\frame.py:664\u001b[0m, in \u001b[0;36mDataFrame.__init__\u001b[1;34m(self, data, index, columns, dtype, copy)\u001b[0m\n\u001b[0;32m    658\u001b[0m     mgr \u001b[38;5;241m=\u001b[39m \u001b[38;5;28mself\u001b[39m\u001b[38;5;241m.\u001b[39m_init_mgr(\n\u001b[0;32m    659\u001b[0m         data, axes\u001b[38;5;241m=\u001b[39m{\u001b[38;5;124m\"\u001b[39m\u001b[38;5;124mindex\u001b[39m\u001b[38;5;124m\"\u001b[39m: index, \u001b[38;5;124m\"\u001b[39m\u001b[38;5;124mcolumns\u001b[39m\u001b[38;5;124m\"\u001b[39m: columns}, dtype\u001b[38;5;241m=\u001b[39mdtype, copy\u001b[38;5;241m=\u001b[39mcopy\n\u001b[0;32m    660\u001b[0m     )\n\u001b[0;32m    662\u001b[0m \u001b[38;5;28;01melif\u001b[39;00m \u001b[38;5;28misinstance\u001b[39m(data, \u001b[38;5;28mdict\u001b[39m):\n\u001b[0;32m    663\u001b[0m     \u001b[38;5;66;03m# GH#38939 de facto copy defaults to False only in non-dict cases\u001b[39;00m\n\u001b[1;32m--> 664\u001b[0m     mgr \u001b[38;5;241m=\u001b[39m \u001b[43mdict_to_mgr\u001b[49m\u001b[43m(\u001b[49m\u001b[43mdata\u001b[49m\u001b[43m,\u001b[49m\u001b[43m \u001b[49m\u001b[43mindex\u001b[49m\u001b[43m,\u001b[49m\u001b[43m \u001b[49m\u001b[43mcolumns\u001b[49m\u001b[43m,\u001b[49m\u001b[43m \u001b[49m\u001b[43mdtype\u001b[49m\u001b[38;5;241;43m=\u001b[39;49m\u001b[43mdtype\u001b[49m\u001b[43m,\u001b[49m\u001b[43m \u001b[49m\u001b[43mcopy\u001b[49m\u001b[38;5;241;43m=\u001b[39;49m\u001b[43mcopy\u001b[49m\u001b[43m,\u001b[49m\u001b[43m \u001b[49m\u001b[43mtyp\u001b[49m\u001b[38;5;241;43m=\u001b[39;49m\u001b[43mmanager\u001b[49m\u001b[43m)\u001b[49m\n\u001b[0;32m    665\u001b[0m \u001b[38;5;28;01melif\u001b[39;00m \u001b[38;5;28misinstance\u001b[39m(data, ma\u001b[38;5;241m.\u001b[39mMaskedArray):\n\u001b[0;32m    666\u001b[0m     \u001b[38;5;28;01mimport\u001b[39;00m \u001b[38;5;21;01mnumpy\u001b[39;00m\u001b[38;5;21;01m.\u001b[39;00m\u001b[38;5;21;01mma\u001b[39;00m\u001b[38;5;21;01m.\u001b[39;00m\u001b[38;5;21;01mmrecords\u001b[39;00m \u001b[38;5;28;01mas\u001b[39;00m \u001b[38;5;21;01mmrecords\u001b[39;00m\n",
      "File \u001b[1;32mc:\\Users\\Tiger\\anaconda3\\lib\\site-packages\\pandas\\core\\internals\\construction.py:493\u001b[0m, in \u001b[0;36mdict_to_mgr\u001b[1;34m(data, index, columns, dtype, typ, copy)\u001b[0m\n\u001b[0;32m    489\u001b[0m     \u001b[38;5;28;01melse\u001b[39;00m:\n\u001b[0;32m    490\u001b[0m         \u001b[38;5;66;03m# dtype check to exclude e.g. range objects, scalars\u001b[39;00m\n\u001b[0;32m    491\u001b[0m         arrays \u001b[38;5;241m=\u001b[39m [x\u001b[38;5;241m.\u001b[39mcopy() \u001b[38;5;28;01mif\u001b[39;00m \u001b[38;5;28mhasattr\u001b[39m(x, \u001b[38;5;124m\"\u001b[39m\u001b[38;5;124mdtype\u001b[39m\u001b[38;5;124m\"\u001b[39m) \u001b[38;5;28;01melse\u001b[39;00m x \u001b[38;5;28;01mfor\u001b[39;00m x \u001b[38;5;129;01min\u001b[39;00m arrays]\n\u001b[1;32m--> 493\u001b[0m \u001b[38;5;28;01mreturn\u001b[39;00m \u001b[43marrays_to_mgr\u001b[49m\u001b[43m(\u001b[49m\u001b[43marrays\u001b[49m\u001b[43m,\u001b[49m\u001b[43m \u001b[49m\u001b[43mcolumns\u001b[49m\u001b[43m,\u001b[49m\u001b[43m \u001b[49m\u001b[43mindex\u001b[49m\u001b[43m,\u001b[49m\u001b[43m \u001b[49m\u001b[43mdtype\u001b[49m\u001b[38;5;241;43m=\u001b[39;49m\u001b[43mdtype\u001b[49m\u001b[43m,\u001b[49m\u001b[43m \u001b[49m\u001b[43mtyp\u001b[49m\u001b[38;5;241;43m=\u001b[39;49m\u001b[43mtyp\u001b[49m\u001b[43m,\u001b[49m\u001b[43m \u001b[49m\u001b[43mconsolidate\u001b[49m\u001b[38;5;241;43m=\u001b[39;49m\u001b[43mcopy\u001b[49m\u001b[43m)\u001b[49m\n",
      "File \u001b[1;32mc:\\Users\\Tiger\\anaconda3\\lib\\site-packages\\pandas\\core\\internals\\construction.py:118\u001b[0m, in \u001b[0;36marrays_to_mgr\u001b[1;34m(arrays, columns, index, dtype, verify_integrity, typ, consolidate)\u001b[0m\n\u001b[0;32m    115\u001b[0m \u001b[38;5;28;01mif\u001b[39;00m verify_integrity:\n\u001b[0;32m    116\u001b[0m     \u001b[38;5;66;03m# figure out the index, if necessary\u001b[39;00m\n\u001b[0;32m    117\u001b[0m     \u001b[38;5;28;01mif\u001b[39;00m index \u001b[38;5;129;01mis\u001b[39;00m \u001b[38;5;28;01mNone\u001b[39;00m:\n\u001b[1;32m--> 118\u001b[0m         index \u001b[38;5;241m=\u001b[39m \u001b[43m_extract_index\u001b[49m\u001b[43m(\u001b[49m\u001b[43marrays\u001b[49m\u001b[43m)\u001b[49m\n\u001b[0;32m    119\u001b[0m     \u001b[38;5;28;01melse\u001b[39;00m:\n\u001b[0;32m    120\u001b[0m         index \u001b[38;5;241m=\u001b[39m ensure_index(index)\n",
      "File \u001b[1;32mc:\\Users\\Tiger\\anaconda3\\lib\\site-packages\\pandas\\core\\internals\\construction.py:666\u001b[0m, in \u001b[0;36m_extract_index\u001b[1;34m(data)\u001b[0m\n\u001b[0;32m    664\u001b[0m lengths \u001b[38;5;241m=\u001b[39m \u001b[38;5;28mlist\u001b[39m(\u001b[38;5;28mset\u001b[39m(raw_lengths))\n\u001b[0;32m    665\u001b[0m \u001b[38;5;28;01mif\u001b[39;00m \u001b[38;5;28mlen\u001b[39m(lengths) \u001b[38;5;241m>\u001b[39m \u001b[38;5;241m1\u001b[39m:\n\u001b[1;32m--> 666\u001b[0m     \u001b[38;5;28;01mraise\u001b[39;00m \u001b[38;5;167;01mValueError\u001b[39;00m(\u001b[38;5;124m\"\u001b[39m\u001b[38;5;124mAll arrays must be of the same length\u001b[39m\u001b[38;5;124m\"\u001b[39m)\n\u001b[0;32m    668\u001b[0m \u001b[38;5;28;01mif\u001b[39;00m have_dicts:\n\u001b[0;32m    669\u001b[0m     \u001b[38;5;28;01mraise\u001b[39;00m \u001b[38;5;167;01mValueError\u001b[39;00m(\n\u001b[0;32m    670\u001b[0m         \u001b[38;5;124m\"\u001b[39m\u001b[38;5;124mMixing dicts with non-Series may lead to ambiguous ordering.\u001b[39m\u001b[38;5;124m\"\u001b[39m\n\u001b[0;32m    671\u001b[0m     )\n",
      "\u001b[1;31mValueError\u001b[0m: All arrays must be of the same length"
     ]
    }
   ],
   "source": [
    "link_data = {'Movie_name': title, \n",
    "        'Movie link': link,\n",
    "        'Review link': user_review_links\n",
    "   }\n",
    "#Build dataframe to export\n",
    "moive_review_link = pd.DataFrame(data = link_data)"
   ]
  }
 ],
 "metadata": {
  "kernelspec": {
   "display_name": "base",
   "language": "python",
   "name": "python3"
  },
  "language_info": {
   "codemirror_mode": {
    "name": "ipython",
    "version": 3
   },
   "file_extension": ".py",
   "mimetype": "text/x-python",
   "name": "python",
   "nbconvert_exporter": "python",
   "pygments_lexer": "ipython3",
   "version": "3.10.9"
  }
 },
 "nbformat": 4,
 "nbformat_minor": 2
}
